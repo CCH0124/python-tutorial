{
 "cells": [
  {
   "cell_type": "code",
   "execution_count": 21,
   "id": "f98f864d",
   "metadata": {},
   "outputs": [],
   "source": [
    "class HandlerRegistry:\n",
    "    def __init__(self):\n",
    "        self._map = {}\n",
    "\n",
    "    def register(self, event_type, event_message_class):\n",
    "        if event_type in self._map:\n",
    "            raise KeyError(f\"event_type '{event_type}' 已經被註冊\")\n",
    "\n",
    "        def decorator(cls):\n",
    "            self._map[event_type] = (cls(), event_message_class)\n",
    "            return cls\n",
    "        return decorator\n",
    "\n",
    "    def get_handler(self, event_type):\n",
    "        entry = self._map.get(event_type)\n",
    "        return entry[0] if entry else None\n",
    "\n",
    "    def get_event_message_class(self, event_type):\n",
    "        entry = self._map.get(event_type)\n",
    "        return entry[1] if entry else None\n",
    "\n",
    "# 1. 建立註冊中心實例\n",
    "handler_registry = HandlerRegistry()"
   ]
  },
  {
   "cell_type": "code",
   "execution_count": 3,
   "id": "eed4ac1f",
   "metadata": {},
   "outputs": [],
   "source": [
    "\n",
    "from abc import ABC, abstractmethod\n",
    "\n",
    "\n",
    "class EventHandlerBase(ABC):\n",
    "\n",
    "    def __init__(self, message_queue_client: str = \"default\"):\n",
    "        \"\"\"\n",
    "        Base class for event handlers.\n",
    "        :param message_queue_client: An instance of MessageQueueClientBase to send messages.\n",
    "        \"\"\"\n",
    "        self.message_queue = message_queue_client\n",
    "\n",
    "    @abstractmethod\n",
    "    async def handle(self, event_object, event):\n",
    "        pass\n"
   ]
  },
  {
   "cell_type": "code",
   "execution_count": 12,
   "id": "68b268de",
   "metadata": {},
   "outputs": [],
   "source": [
    "class UserCreatedMessage:\n",
    "    def __init__(self, user_id, user_name, user_age):\n",
    "        self.user_id = user_id\n",
    "        self.user_name = user_name\n",
    "        self.user_age = user_age"
   ]
  },
  {
   "cell_type": "code",
   "execution_count": 18,
   "id": "c8f5c462",
   "metadata": {},
   "outputs": [],
   "source": [
    "from enum import Enum, auto\n",
    "\n",
    "\n",
    "class Type(Enum):\n",
    "    USER_CREATED = auto()"
   ]
  },
  {
   "cell_type": "code",
   "execution_count": 22,
   "id": "652eccae",
   "metadata": {},
   "outputs": [],
   "source": [
    "@handler_registry.register(event_type=Type.USER_CREATED.name, event_message_class=UserCreatedMessage)\n",
    "class UserCreationHandler(EventHandlerBase):\n",
    "    async def handle(self, event_object: UserCreatedMessage, event):\n",
    "        print(f\"處理中... 新使用者已建立！ID: {event_object.user_id}, 名稱: {event_object.user_name}\")"
   ]
  },
  {
   "cell_type": "code",
   "execution_count": 26,
   "id": "88c47748",
   "metadata": {},
   "outputs": [],
   "source": [
    "event_type_from_message_queue = \"USER_CREATED\"\n",
    "event_data = {\"user_id\": 123, \"user_name\": \"Alice\", \"user_age\": 14}"
   ]
  },
  {
   "cell_type": "code",
   "execution_count": 27,
   "id": "fb00b965",
   "metadata": {},
   "outputs": [
    {
     "name": "stdout",
     "output_type": "stream",
     "text": [
      "處理中... 新使用者已建立！ID: 123, 名稱: Alice\n"
     ]
    }
   ],
   "source": [
    "handler = handler_registry.get_handler(event_type_from_message_queue)\n",
    "message_class = handler_registry.get_event_message_class(event_type_from_message_queue)\n",
    "\n",
    "# 5. 執行處理\n",
    "if handler and message_class:\n",
    "    message_instance = message_class(**event_data)\n",
    "    await handler.handle(message_instance, message_instance)\n",
    "else:\n",
    "    print(f\"找不到事件 '{event_type_from_message_queue}' 的處理器\")"
   ]
  }
 ],
 "metadata": {
  "kernelspec": {
   "display_name": ".venv",
   "language": "python",
   "name": "python3"
  },
  "language_info": {
   "codemirror_mode": {
    "name": "ipython",
    "version": 3
   },
   "file_extension": ".py",
   "mimetype": "text/x-python",
   "name": "python",
   "nbconvert_exporter": "python",
   "pygments_lexer": "ipython3",
   "version": "3.12.3"
  }
 },
 "nbformat": 4,
 "nbformat_minor": 5
}
