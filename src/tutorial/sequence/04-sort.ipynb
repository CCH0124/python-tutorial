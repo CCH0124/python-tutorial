{
 "cells": [
  {
   "cell_type": "markdown",
   "id": "bd2b8aaa",
   "metadata": {},
   "source": [
    "### list.sort vs sorted\n",
    "1. list.sort\n",
    "- 不會製作副本\n",
    "- 透過回傳 None 告知改變了 receiver，且沒有建立新的 list\n",
    "\n",
    "2. sorted\n",
    "- 建立新的 list 且回傳\n",
    "\n",
    "上述的排序都接收兩種可選關鍵字\n",
    "\n",
    "1. reverse\n",
    "2. key\n",
    "- 產生排序鍵"
   ]
  },
  {
   "cell_type": "code",
   "execution_count": 9,
   "id": "d9d1a3b9",
   "metadata": {},
   "outputs": [],
   "source": [
    "fruits = ['grape', 'raspberry', 'apple', 'banana']"
   ]
  },
  {
   "cell_type": "code",
   "execution_count": 10,
   "id": "473987e5",
   "metadata": {},
   "outputs": [
    {
     "data": {
      "text/plain": [
       "['apple', 'banana', 'grape', 'raspberry']"
      ]
     },
     "execution_count": 10,
     "metadata": {},
     "output_type": "execute_result"
    }
   ],
   "source": [
    "sorted(fruits)"
   ]
  },
  {
   "cell_type": "code",
   "execution_count": 11,
   "id": "8301faa3",
   "metadata": {},
   "outputs": [
    {
     "data": {
      "text/plain": [
       "['grape', 'raspberry', 'apple', 'banana']"
      ]
     },
     "execution_count": 11,
     "metadata": {},
     "output_type": "execute_result"
    }
   ],
   "source": [
    "fruits"
   ]
  },
  {
   "cell_type": "code",
   "execution_count": 12,
   "id": "4e7d786b",
   "metadata": {},
   "outputs": [],
   "source": [
    "fruits.sort()"
   ]
  },
  {
   "cell_type": "code",
   "execution_count": 13,
   "id": "4331b88c",
   "metadata": {},
   "outputs": [
    {
     "data": {
      "text/plain": [
       "['apple', 'banana', 'grape', 'raspberry']"
      ]
     },
     "execution_count": 13,
     "metadata": {},
     "output_type": "execute_result"
    }
   ],
   "source": [
    "fruits"
   ]
  }
 ],
 "metadata": {
  "kernelspec": {
   "display_name": ".venv",
   "language": "python",
   "name": "python3"
  },
  "language_info": {
   "codemirror_mode": {
    "name": "ipython",
    "version": 3
   },
   "file_extension": ".py",
   "mimetype": "text/x-python",
   "name": "python",
   "nbconvert_exporter": "python",
   "pygments_lexer": "ipython3",
   "version": "3.11.0rc1"
  }
 },
 "nbformat": 4,
 "nbformat_minor": 5
}
